{
 "cells": [
  {
   "cell_type": "code",
   "execution_count": 34,
   "id": "cd96d7b0-1439-4a5e-a095-fd44ab6e59ce",
   "metadata": {},
   "outputs": [
    {
     "name": "stdout",
     "output_type": "stream",
     "text": [
      "Python 3.10.14\n"
     ]
    }
   ],
   "source": [
    "!python --version"
   ]
  },
  {
   "cell_type": "markdown",
   "id": "15a73d7c-b6ff-46de-9bfd-4da8c579b15e",
   "metadata": {},
   "source": [
    "## Importing Libraries"
   ]
  },
  {
   "cell_type": "code",
   "execution_count": 35,
   "id": "d5f16ca8-7084-4366-b024-32cdba59f799",
   "metadata": {},
   "outputs": [],
   "source": [
    "import numpy as np\n",
    "import pandas as pd\n",
    "import os\n",
    "\n",
    "from sklearn.model_selection import train_test_split"
   ]
  },
  {
   "cell_type": "markdown",
   "id": "da1997d9-30ac-4064-b3c4-f07dd2228ceb",
   "metadata": {},
   "source": [
    "# Reading The Dataset"
   ]
  },
  {
   "cell_type": "code",
   "execution_count": 36,
   "id": "ac4abcf6-0fa2-4c30-bdb4-cc4fb5d51e57",
   "metadata": {},
   "outputs": [],
   "source": [
    "PROJECT_DIR = r\"C:\\Users\\abhid\\Desktop\\campusx\\flightprice_sagemaker\"\n",
    "DATA_DIR = \"data\""
   ]
  },
  {
   "cell_type": "code",
   "execution_count": 37,
   "id": "ea4ea02e-4dd1-4a0d-aa49-75fb14faa049",
   "metadata": {},
   "outputs": [
    {
     "data": {
      "text/plain": [
       "'C:\\\\Users\\\\abhid\\\\Desktop\\\\campusx\\\\flightprice_sagemaker\\\\data'"
      ]
     },
     "execution_count": 37,
     "metadata": {},
     "output_type": "execute_result"
    }
   ],
   "source": [
    "os.path.join(PROJECT_DIR,DATA_DIR)"
   ]
  },
  {
   "cell_type": "code",
   "execution_count": 38,
   "id": "25fa516c-22b0-4403-bee4-f02d9a62fe21",
   "metadata": {},
   "outputs": [],
   "source": [
    "def get_data(name):\n",
    "    \"\"\"\n",
    "    user will give name of the csv file\n",
    "    \"\"\"\n",
    "    filename = f\"{name}.csv\"\n",
    "    file_path = os.path.join(PROJECT_DIR,DATA_DIR,filename)\n",
    "\n",
    "    return pd.read_csv(file_path)\n"
   ]
  },
  {
   "cell_type": "code",
   "execution_count": 39,
   "id": "9f1f915f-5394-4f0a-93c1-173344e52f7d",
   "metadata": {},
   "outputs": [],
   "source": [
    "flights = get_data(\"flight_price\")"
   ]
  },
  {
   "cell_type": "code",
   "execution_count": 40,
   "id": "fabae077-9846-4093-8805-4bc0c4225738",
   "metadata": {},
   "outputs": [
    {
     "data": {
      "text/html": [
       "<div>\n",
       "<style scoped>\n",
       "    .dataframe tbody tr th:only-of-type {\n",
       "        vertical-align: middle;\n",
       "    }\n",
       "\n",
       "    .dataframe tbody tr th {\n",
       "        vertical-align: top;\n",
       "    }\n",
       "\n",
       "    .dataframe thead th {\n",
       "        text-align: right;\n",
       "    }\n",
       "</style>\n",
       "<table border=\"1\" class=\"dataframe\">\n",
       "  <thead>\n",
       "    <tr style=\"text-align: right;\">\n",
       "      <th></th>\n",
       "      <th>Airline</th>\n",
       "      <th>Date_of_Journey</th>\n",
       "      <th>Source</th>\n",
       "      <th>Destination</th>\n",
       "      <th>Route</th>\n",
       "      <th>Dep_Time</th>\n",
       "      <th>Arrival_Time</th>\n",
       "      <th>Duration</th>\n",
       "      <th>Total_Stops</th>\n",
       "      <th>Additional_Info</th>\n",
       "      <th>Price</th>\n",
       "    </tr>\n",
       "  </thead>\n",
       "  <tbody>\n",
       "    <tr>\n",
       "      <th>0</th>\n",
       "      <td>IndiGo</td>\n",
       "      <td>24/03/2019</td>\n",
       "      <td>Banglore</td>\n",
       "      <td>New Delhi</td>\n",
       "      <td>BLR → DEL</td>\n",
       "      <td>22:20</td>\n",
       "      <td>01:10 22 Mar</td>\n",
       "      <td>2h 50m</td>\n",
       "      <td>non-stop</td>\n",
       "      <td>No info</td>\n",
       "      <td>3897</td>\n",
       "    </tr>\n",
       "    <tr>\n",
       "      <th>1</th>\n",
       "      <td>Air India</td>\n",
       "      <td>1/05/2019</td>\n",
       "      <td>Kolkata</td>\n",
       "      <td>Banglore</td>\n",
       "      <td>CCU → IXR → BBI → BLR</td>\n",
       "      <td>05:50</td>\n",
       "      <td>13:15</td>\n",
       "      <td>7h 25m</td>\n",
       "      <td>2 stops</td>\n",
       "      <td>No info</td>\n",
       "      <td>7662</td>\n",
       "    </tr>\n",
       "    <tr>\n",
       "      <th>2</th>\n",
       "      <td>Jet Airways</td>\n",
       "      <td>9/06/2019</td>\n",
       "      <td>Delhi</td>\n",
       "      <td>Cochin</td>\n",
       "      <td>DEL → LKO → BOM → COK</td>\n",
       "      <td>09:25</td>\n",
       "      <td>04:25 10 Jun</td>\n",
       "      <td>19h</td>\n",
       "      <td>2 stops</td>\n",
       "      <td>No info</td>\n",
       "      <td>13882</td>\n",
       "    </tr>\n",
       "  </tbody>\n",
       "</table>\n",
       "</div>"
      ],
      "text/plain": [
       "       Airline Date_of_Journey    Source Destination                  Route  \\\n",
       "0       IndiGo      24/03/2019  Banglore   New Delhi              BLR → DEL   \n",
       "1    Air India       1/05/2019   Kolkata    Banglore  CCU → IXR → BBI → BLR   \n",
       "2  Jet Airways       9/06/2019     Delhi      Cochin  DEL → LKO → BOM → COK   \n",
       "\n",
       "  Dep_Time  Arrival_Time Duration Total_Stops Additional_Info  Price  \n",
       "0    22:20  01:10 22 Mar   2h 50m    non-stop         No info   3897  \n",
       "1    05:50         13:15   7h 25m     2 stops         No info   7662  \n",
       "2    09:25  04:25 10 Jun      19h     2 stops         No info  13882  "
      ]
     },
     "execution_count": 40,
     "metadata": {},
     "output_type": "execute_result"
    }
   ],
   "source": [
    "flights.head(3)"
   ]
  },
  {
   "cell_type": "markdown",
   "id": "e1de0b1e-91ad-413d-9c9d-14bc731b6564",
   "metadata": {},
   "source": [
    "# Preliminary Checks"
   ]
  },
  {
   "cell_type": "code",
   "execution_count": 41,
   "id": "96a8ad44-d253-42e8-b358-d2e70155deec",
   "metadata": {},
   "outputs": [
    {
     "name": "stdout",
     "output_type": "stream",
     "text": [
      "<class 'pandas.core.frame.DataFrame'>\n",
      "RangeIndex: 10683 entries, 0 to 10682\n",
      "Data columns (total 11 columns):\n",
      " #   Column           Non-Null Count  Dtype \n",
      "---  ------           --------------  ----- \n",
      " 0   Airline          10683 non-null  object\n",
      " 1   Date_of_Journey  10683 non-null  object\n",
      " 2   Source           10683 non-null  object\n",
      " 3   Destination      10683 non-null  object\n",
      " 4   Route            10682 non-null  object\n",
      " 5   Dep_Time         10683 non-null  object\n",
      " 6   Arrival_Time     10683 non-null  object\n",
      " 7   Duration         10683 non-null  object\n",
      " 8   Total_Stops      10682 non-null  object\n",
      " 9   Additional_Info  10683 non-null  object\n",
      " 10  Price            10683 non-null  int64 \n",
      "dtypes: int64(1), object(10)\n",
      "memory usage: 918.2+ KB\n"
     ]
    }
   ],
   "source": [
    "flights.info()"
   ]
  },
  {
   "cell_type": "code",
   "execution_count": 42,
   "id": "1d3878a8-1bf0-4670-af71-df479738dd2c",
   "metadata": {},
   "outputs": [
    {
     "data": {
      "text/plain": [
       "Airline            object\n",
       "Date_of_Journey    object\n",
       "Source             object\n",
       "Destination        object\n",
       "Route              object\n",
       "Dep_Time           object\n",
       "Arrival_Time       object\n",
       "Duration           object\n",
       "Total_Stops        object\n",
       "Additional_Info    object\n",
       "Price               int64\n",
       "dtype: object"
      ]
     },
     "execution_count": 42,
     "metadata": {},
     "output_type": "execute_result"
    }
   ],
   "source": [
    "flights.dtypes"
   ]
  },
  {
   "cell_type": "markdown",
   "id": "3b381ea6-dfba-40ac-9183-5386e7cc5f5f",
   "metadata": {},
   "source": [
    "# Check for Duplicates"
   ]
  },
  {
   "cell_type": "code",
   "execution_count": 43,
   "id": "3fea12d0-1a01-4808-b5a5-9984fc035dda",
   "metadata": {},
   "outputs": [
    {
     "data": {
      "text/plain": [
       "220"
      ]
     },
     "execution_count": 43,
     "metadata": {},
     "output_type": "execute_result"
    }
   ],
   "source": [
    "flights.duplicated().sum()"
   ]
  },
  {
   "cell_type": "code",
   "execution_count": 44,
   "id": "31eea348-67a0-4b9d-a2ac-70596ff5f505",
   "metadata": {},
   "outputs": [
    {
     "data": {
      "text/html": [
       "<div>\n",
       "<style scoped>\n",
       "    .dataframe tbody tr th:only-of-type {\n",
       "        vertical-align: middle;\n",
       "    }\n",
       "\n",
       "    .dataframe tbody tr th {\n",
       "        vertical-align: top;\n",
       "    }\n",
       "\n",
       "    .dataframe thead th {\n",
       "        text-align: right;\n",
       "    }\n",
       "</style>\n",
       "<table border=\"1\" class=\"dataframe\">\n",
       "  <thead>\n",
       "    <tr style=\"text-align: right;\">\n",
       "      <th></th>\n",
       "      <th>Airline</th>\n",
       "      <th>Date_of_Journey</th>\n",
       "      <th>Source</th>\n",
       "      <th>Destination</th>\n",
       "      <th>Route</th>\n",
       "      <th>Dep_Time</th>\n",
       "      <th>Arrival_Time</th>\n",
       "      <th>Duration</th>\n",
       "      <th>Total_Stops</th>\n",
       "      <th>Additional_Info</th>\n",
       "      <th>Price</th>\n",
       "    </tr>\n",
       "  </thead>\n",
       "  <tbody>\n",
       "    <tr>\n",
       "      <th>6321</th>\n",
       "      <td>Air India</td>\n",
       "      <td>01/03/2019</td>\n",
       "      <td>Banglore</td>\n",
       "      <td>New Delhi</td>\n",
       "      <td>BLR → BOM → AMD → DEL</td>\n",
       "      <td>08:50</td>\n",
       "      <td>23:55 02 Mar</td>\n",
       "      <td>39h 5m</td>\n",
       "      <td>2 stops</td>\n",
       "      <td>No info</td>\n",
       "      <td>17135</td>\n",
       "    </tr>\n",
       "    <tr>\n",
       "      <th>9848</th>\n",
       "      <td>Air India</td>\n",
       "      <td>01/03/2019</td>\n",
       "      <td>Banglore</td>\n",
       "      <td>New Delhi</td>\n",
       "      <td>BLR → BOM → AMD → DEL</td>\n",
       "      <td>08:50</td>\n",
       "      <td>23:55 02 Mar</td>\n",
       "      <td>39h 5m</td>\n",
       "      <td>2 stops</td>\n",
       "      <td>No info</td>\n",
       "      <td>17135</td>\n",
       "    </tr>\n",
       "    <tr>\n",
       "      <th>572</th>\n",
       "      <td>Air India</td>\n",
       "      <td>03/03/2019</td>\n",
       "      <td>Banglore</td>\n",
       "      <td>New Delhi</td>\n",
       "      <td>BLR → DEL</td>\n",
       "      <td>21:10</td>\n",
       "      <td>23:55</td>\n",
       "      <td>2h 45m</td>\n",
       "      <td>non-stop</td>\n",
       "      <td>No info</td>\n",
       "      <td>7591</td>\n",
       "    </tr>\n",
       "    <tr>\n",
       "      <th>8168</th>\n",
       "      <td>Air India</td>\n",
       "      <td>03/03/2019</td>\n",
       "      <td>Banglore</td>\n",
       "      <td>New Delhi</td>\n",
       "      <td>BLR → DEL</td>\n",
       "      <td>21:10</td>\n",
       "      <td>23:55</td>\n",
       "      <td>2h 45m</td>\n",
       "      <td>non-stop</td>\n",
       "      <td>No info</td>\n",
       "      <td>7591</td>\n",
       "    </tr>\n",
       "    <tr>\n",
       "      <th>1495</th>\n",
       "      <td>Air India</td>\n",
       "      <td>1/04/2019</td>\n",
       "      <td>Kolkata</td>\n",
       "      <td>Banglore</td>\n",
       "      <td>CCU → DEL → COK → BLR</td>\n",
       "      <td>10:00</td>\n",
       "      <td>01:20 02 Apr</td>\n",
       "      <td>15h 20m</td>\n",
       "      <td>2 stops</td>\n",
       "      <td>No info</td>\n",
       "      <td>10408</td>\n",
       "    </tr>\n",
       "    <tr>\n",
       "      <th>...</th>\n",
       "      <td>...</td>\n",
       "      <td>...</td>\n",
       "      <td>...</td>\n",
       "      <td>...</td>\n",
       "      <td>...</td>\n",
       "      <td>...</td>\n",
       "      <td>...</td>\n",
       "      <td>...</td>\n",
       "      <td>...</td>\n",
       "      <td>...</td>\n",
       "      <td>...</td>\n",
       "    </tr>\n",
       "    <tr>\n",
       "      <th>2870</th>\n",
       "      <td>SpiceJet</td>\n",
       "      <td>24/03/2019</td>\n",
       "      <td>Banglore</td>\n",
       "      <td>New Delhi</td>\n",
       "      <td>BLR → DEL</td>\n",
       "      <td>05:45</td>\n",
       "      <td>08:35</td>\n",
       "      <td>2h 50m</td>\n",
       "      <td>non-stop</td>\n",
       "      <td>No check-in baggage included</td>\n",
       "      <td>4273</td>\n",
       "    </tr>\n",
       "    <tr>\n",
       "      <th>1535</th>\n",
       "      <td>SpiceJet</td>\n",
       "      <td>24/03/2019</td>\n",
       "      <td>Banglore</td>\n",
       "      <td>New Delhi</td>\n",
       "      <td>BLR → DEL</td>\n",
       "      <td>20:30</td>\n",
       "      <td>23:20</td>\n",
       "      <td>2h 50m</td>\n",
       "      <td>non-stop</td>\n",
       "      <td>No check-in baggage included</td>\n",
       "      <td>3873</td>\n",
       "    </tr>\n",
       "    <tr>\n",
       "      <th>3711</th>\n",
       "      <td>SpiceJet</td>\n",
       "      <td>24/03/2019</td>\n",
       "      <td>Banglore</td>\n",
       "      <td>New Delhi</td>\n",
       "      <td>BLR → DEL</td>\n",
       "      <td>20:30</td>\n",
       "      <td>23:20</td>\n",
       "      <td>2h 50m</td>\n",
       "      <td>non-stop</td>\n",
       "      <td>No check-in baggage included</td>\n",
       "      <td>3873</td>\n",
       "    </tr>\n",
       "    <tr>\n",
       "      <th>2634</th>\n",
       "      <td>Vistara</td>\n",
       "      <td>24/03/2019</td>\n",
       "      <td>Banglore</td>\n",
       "      <td>New Delhi</td>\n",
       "      <td>BLR → DEL</td>\n",
       "      <td>11:30</td>\n",
       "      <td>14:10</td>\n",
       "      <td>2h 40m</td>\n",
       "      <td>non-stop</td>\n",
       "      <td>No info</td>\n",
       "      <td>5403</td>\n",
       "    </tr>\n",
       "    <tr>\n",
       "      <th>5470</th>\n",
       "      <td>Vistara</td>\n",
       "      <td>24/03/2019</td>\n",
       "      <td>Banglore</td>\n",
       "      <td>New Delhi</td>\n",
       "      <td>BLR → DEL</td>\n",
       "      <td>11:30</td>\n",
       "      <td>14:10</td>\n",
       "      <td>2h 40m</td>\n",
       "      <td>non-stop</td>\n",
       "      <td>No info</td>\n",
       "      <td>5403</td>\n",
       "    </tr>\n",
       "  </tbody>\n",
       "</table>\n",
       "<p>415 rows × 11 columns</p>\n",
       "</div>"
      ],
      "text/plain": [
       "        Airline Date_of_Journey    Source Destination                  Route  \\\n",
       "6321  Air India      01/03/2019  Banglore   New Delhi  BLR → BOM → AMD → DEL   \n",
       "9848  Air India      01/03/2019  Banglore   New Delhi  BLR → BOM → AMD → DEL   \n",
       "572   Air India      03/03/2019  Banglore   New Delhi              BLR → DEL   \n",
       "8168  Air India      03/03/2019  Banglore   New Delhi              BLR → DEL   \n",
       "1495  Air India       1/04/2019   Kolkata    Banglore  CCU → DEL → COK → BLR   \n",
       "...         ...             ...       ...         ...                    ...   \n",
       "2870   SpiceJet      24/03/2019  Banglore   New Delhi              BLR → DEL   \n",
       "1535   SpiceJet      24/03/2019  Banglore   New Delhi              BLR → DEL   \n",
       "3711   SpiceJet      24/03/2019  Banglore   New Delhi              BLR → DEL   \n",
       "2634    Vistara      24/03/2019  Banglore   New Delhi              BLR → DEL   \n",
       "5470    Vistara      24/03/2019  Banglore   New Delhi              BLR → DEL   \n",
       "\n",
       "     Dep_Time  Arrival_Time Duration Total_Stops  \\\n",
       "6321    08:50  23:55 02 Mar   39h 5m     2 stops   \n",
       "9848    08:50  23:55 02 Mar   39h 5m     2 stops   \n",
       "572     21:10         23:55   2h 45m    non-stop   \n",
       "8168    21:10         23:55   2h 45m    non-stop   \n",
       "1495    10:00  01:20 02 Apr  15h 20m     2 stops   \n",
       "...       ...           ...      ...         ...   \n",
       "2870    05:45         08:35   2h 50m    non-stop   \n",
       "1535    20:30         23:20   2h 50m    non-stop   \n",
       "3711    20:30         23:20   2h 50m    non-stop   \n",
       "2634    11:30         14:10   2h 40m    non-stop   \n",
       "5470    11:30         14:10   2h 40m    non-stop   \n",
       "\n",
       "                   Additional_Info  Price  \n",
       "6321                       No info  17135  \n",
       "9848                       No info  17135  \n",
       "572                        No info   7591  \n",
       "8168                       No info   7591  \n",
       "1495                       No info  10408  \n",
       "...                            ...    ...  \n",
       "2870  No check-in baggage included   4273  \n",
       "1535  No check-in baggage included   3873  \n",
       "3711  No check-in baggage included   3873  \n",
       "2634                       No info   5403  \n",
       "5470                       No info   5403  \n",
       "\n",
       "[415 rows x 11 columns]"
      ]
     },
     "execution_count": 44,
     "metadata": {},
     "output_type": "execute_result"
    }
   ],
   "source": [
    "# Viweing the duplicate rows\n",
    "flights[flights.duplicated(keep = False)].sort_values([\"Airline\",\"Date_of_Journey\",\"Route\",\"Dep_Time\"])"
   ]
  },
  {
   "cell_type": "markdown",
   "id": "424c5183-e662-4578-a766-ef06d4602f85",
   "metadata": {},
   "source": [
    "## Observations"
   ]
  },
  {
   "cell_type": "raw",
   "id": "e168506d-7d7d-430b-969b-6460ec428c10",
   "metadata": {},
   "source": [
    "Note: Total Stops and Route has 1 missing value each.\n",
    "Date of Journey is not Datetime.\n",
    "Departure and Arrival Time should also be changed to Datetime.\n",
    "There are 220 duplicate rows which need to be removed.\n",
    "Duration is mixed (ie hr-min). Convert to integer as minutes.\n",
    "Total stops to integer (Nonstop --> 0, 1 stop --> 1 etc)\n",
    "Some of the labels in airlines have Premium economy, Business etc\n",
    "New Delhi and Delhi are given separately in the Destination.\n",
    "Convert Departure Time to time format using dt.time\n",
    "Arrival Time is in mixed format with date, time mixed in string datatype."
   ]
  },
  {
   "cell_type": "markdown",
   "id": "5b7100c4-9ad6-4c07-8d51-999eac92a69d",
   "metadata": {},
   "source": [
    "## Detailed Analysis"
   ]
  },
  {
   "cell_type": "code",
   "execution_count": 45,
   "id": "22c59a03-6664-40a8-b19e-239276f0d6f4",
   "metadata": {},
   "outputs": [
    {
     "data": {
      "text/plain": [
       "Airline\n",
       "Jet Airways                          3849\n",
       "IndiGo                               2053\n",
       "Air India                            1752\n",
       "Multiple carriers                    1196\n",
       "SpiceJet                              818\n",
       "Vistara                               479\n",
       "Air Asia                              319\n",
       "GoAir                                 194\n",
       "Multiple carriers Premium economy      13\n",
       "Jet Airways Business                    6\n",
       "Vistara Premium economy                 3\n",
       "Trujet                                  1\n",
       "Name: count, dtype: int64"
      ]
     },
     "execution_count": 45,
     "metadata": {},
     "output_type": "execute_result"
    }
   ],
   "source": [
    "# airline\n",
    "flights['Airline'].value_counts()"
   ]
  },
  {
   "cell_type": "code",
   "execution_count": 46,
   "id": "98d92173-eb9d-4d39-8911-83d66fadd5e6",
   "metadata": {},
   "outputs": [
    {
     "data": {
      "text/plain": [
       "array(['Indigo', 'Air India', 'Jet Airways', 'Spicejet',\n",
       "       'Multiple Carriers', 'Goair', 'Vistara', 'Air Asia', 'Vistara ',\n",
       "       'Jet Airways ', 'Multiple Carriers ', 'Trujet'], dtype=object)"
      ]
     },
     "execution_count": 46,
     "metadata": {},
     "output_type": "execute_result"
    }
   ],
   "source": [
    "flights['Airline'].str.replace(\"Premium economy\",\"\").str.replace(\"Business\",\"\").str.title().unique()"
   ]
  },
  {
   "cell_type": "code",
   "execution_count": 47,
   "id": "2f39028d-c581-46c2-992a-66e160444452",
   "metadata": {},
   "outputs": [
    {
     "name": "stdout",
     "output_type": "stream",
     "text": [
      "['Banglore' 'Kolkata' 'Delhi' 'Chennai' 'Mumbai']\n",
      "['New Delhi' 'Banglore' 'Cochin' 'Kolkata' 'Delhi' 'Hyderabad']\n"
     ]
    }
   ],
   "source": [
    "# source\n",
    "print(flights['Source'].unique())\n",
    "print(flights['Destination'].unique())"
   ]
  },
  {
   "cell_type": "code",
   "execution_count": 48,
   "id": "217db9f1-02ac-4869-a675-312fba07dd1b",
   "metadata": {},
   "outputs": [
    {
     "data": {
      "text/plain": [
       "0"
      ]
     },
     "execution_count": 48,
     "metadata": {},
     "output_type": "execute_result"
    }
   ],
   "source": [
    "# check if Dep time entries are valid, if they contain character other than digits and column\n",
    "flights['Dep_Time'].str.contains(\"[^0-9:]\").sum()"
   ]
  },
  {
   "cell_type": "markdown",
   "id": "76554466-d76b-4e99-9699-617a3726ee24",
   "metadata": {},
   "source": [
    "## So, all values are in hh:mm format as desrired"
   ]
  },
  {
   "cell_type": "code",
   "execution_count": 49,
   "id": "f6eee68d-eec8-495e-a66c-d18aeb5bc451",
   "metadata": {},
   "outputs": [
    {
     "name": "stderr",
     "output_type": "stream",
     "text": [
      "C:\\Users\\abhid\\AppData\\Local\\Temp\\ipykernel_8144\\2877393476.py:2: UserWarning: Could not infer format, so each element will be parsed individually, falling back to `dateutil`. To ensure parsing is consistent and as-expected, please specify a format.\n",
      "  pd.to_datetime(flights['Dep_Time']).dt.time\n"
     ]
    },
    {
     "data": {
      "text/plain": [
       "0        22:20:00\n",
       "1        05:50:00\n",
       "2        09:25:00\n",
       "3        18:05:00\n",
       "4        16:50:00\n",
       "           ...   \n",
       "10678    19:55:00\n",
       "10679    20:45:00\n",
       "10680    08:20:00\n",
       "10681    11:30:00\n",
       "10682    10:55:00\n",
       "Name: Dep_Time, Length: 10683, dtype: object"
      ]
     },
     "execution_count": 49,
     "metadata": {},
     "output_type": "execute_result"
    }
   ],
   "source": [
    "# convert Dep Time to tie format\n",
    "pd.to_datetime(flights['Dep_Time']).dt.time"
   ]
  },
  {
   "cell_type": "code",
   "execution_count": 50,
   "id": "6f1c990f-df0a-411a-a4aa-c13fa05c75a2",
   "metadata": {},
   "outputs": [
    {
     "data": {
      "text/plain": [
       "0         True\n",
       "1        False\n",
       "2         True\n",
       "3        False\n",
       "4        False\n",
       "         ...  \n",
       "10678    False\n",
       "10679    False\n",
       "10680    False\n",
       "10681    False\n",
       "10682    False\n",
       "Name: Arrival_Time, Length: 10683, dtype: bool"
      ]
     },
     "execution_count": 50,
     "metadata": {},
     "output_type": "execute_result"
    }
   ],
   "source": [
    "# check if Dep time entries are valid, if they contain character other than digits and column\n",
    "flights['Arrival_Time'].str.contains(\"[^0-9:]\")"
   ]
  },
  {
   "cell_type": "code",
   "execution_count": 51,
   "id": "2c7efe0a-45ef-4a01-a14f-0b5425fa6fbf",
   "metadata": {},
   "outputs": [
    {
     "name": "stderr",
     "output_type": "stream",
     "text": [
      "C:\\Users\\abhid\\AppData\\Local\\Temp\\ipykernel_8144\\1518000786.py:1: UserWarning: Could not infer format, so each element will be parsed individually, falling back to `dateutil`. To ensure parsing is consistent and as-expected, please specify a format.\n",
      "  pd.to_datetime(flights['Arrival_Time'].str.split(\" \",n=1).str.get(0)).dt.time\n"
     ]
    },
    {
     "data": {
      "text/plain": [
       "0        01:10:00\n",
       "1        13:15:00\n",
       "2        04:25:00\n",
       "3        23:30:00\n",
       "4        21:35:00\n",
       "           ...   \n",
       "10678    22:25:00\n",
       "10679    23:20:00\n",
       "10680    11:20:00\n",
       "10681    14:10:00\n",
       "10682    19:15:00\n",
       "Name: Arrival_Time, Length: 10683, dtype: object"
      ]
     },
     "execution_count": 51,
     "metadata": {},
     "output_type": "execute_result"
    }
   ],
   "source": [
    "pd.to_datetime(flights['Arrival_Time'].str.split(\" \",n=1).str.get(0)).dt.time"
   ]
  },
  {
   "cell_type": "code",
   "execution_count": 52,
   "id": "3aa53434-ae2d-4389-b31c-54dec8fd9b91",
   "metadata": {},
   "outputs": [
    {
     "data": {
      "text/html": [
       "<div>\n",
       "<style scoped>\n",
       "    .dataframe tbody tr th:only-of-type {\n",
       "        vertical-align: middle;\n",
       "    }\n",
       "\n",
       "    .dataframe tbody tr th {\n",
       "        vertical-align: top;\n",
       "    }\n",
       "\n",
       "    .dataframe thead th {\n",
       "        text-align: right;\n",
       "    }\n",
       "</style>\n",
       "<table border=\"1\" class=\"dataframe\">\n",
       "  <thead>\n",
       "    <tr style=\"text-align: right;\">\n",
       "      <th></th>\n",
       "      <th>Airline</th>\n",
       "      <th>Date_of_Journey</th>\n",
       "      <th>Source</th>\n",
       "      <th>Destination</th>\n",
       "      <th>Route</th>\n",
       "      <th>Dep_Time</th>\n",
       "      <th>Arrival_Time</th>\n",
       "      <th>Duration</th>\n",
       "      <th>Total_Stops</th>\n",
       "      <th>Additional_Info</th>\n",
       "      <th>Price</th>\n",
       "    </tr>\n",
       "  </thead>\n",
       "  <tbody>\n",
       "    <tr>\n",
       "      <th>6474</th>\n",
       "      <td>Air India</td>\n",
       "      <td>6/03/2019</td>\n",
       "      <td>Mumbai</td>\n",
       "      <td>Hyderabad</td>\n",
       "      <td>BOM → GOI → PNQ → HYD</td>\n",
       "      <td>16:50</td>\n",
       "      <td>16:55</td>\n",
       "      <td>5m</td>\n",
       "      <td>2 stops</td>\n",
       "      <td>No info</td>\n",
       "      <td>17327</td>\n",
       "    </tr>\n",
       "  </tbody>\n",
       "</table>\n",
       "</div>"
      ],
      "text/plain": [
       "        Airline Date_of_Journey  Source Destination                  Route  \\\n",
       "6474  Air India       6/03/2019  Mumbai   Hyderabad  BOM → GOI → PNQ → HYD   \n",
       "\n",
       "     Dep_Time Arrival_Time Duration Total_Stops Additional_Info  Price  \n",
       "6474    16:50        16:55       5m     2 stops         No info  17327  "
      ]
     },
     "execution_count": 52,
     "metadata": {},
     "output_type": "execute_result"
    }
   ],
   "source": [
    "# Anomaly in duration column\n",
    "flights[~flights['Duration'].str.contains(\"h\")]"
   ]
  },
  {
   "cell_type": "markdown",
   "id": "89e5a259-eff9-42f5-ab03-21923bef7cb7",
   "metadata": {},
   "source": [
    "### We need to drop this error row of duration 5 minutes"
   ]
  },
  {
   "cell_type": "markdown",
   "id": "1d5c7985-8794-40c6-8899-69fabc30337c",
   "metadata": {},
   "source": [
    "# converting duration to minutes\n"
   ]
  },
  {
   "cell_type": "code",
   "execution_count": 53,
   "id": "5c81950b-31ff-4c02-a4db-0f37190adb3e",
   "metadata": {},
   "outputs": [
    {
     "data": {
      "text/plain": [
       "0         2\n",
       "1         7\n",
       "2        19\n",
       "3         5\n",
       "4         4\n",
       "         ..\n",
       "10678     2\n",
       "10679     2\n",
       "10680     3\n",
       "10681     2\n",
       "10682     8\n",
       "Name: 0, Length: 10683, dtype: object"
      ]
     },
     "execution_count": 53,
     "metadata": {},
     "output_type": "execute_result"
    }
   ],
   "source": [
    "flights['Duration'].str.split(\" \",expand = True)[0].str.replace(\"h\",\"\").fillna(\"0\")"
   ]
  },
  {
   "cell_type": "code",
   "execution_count": 54,
   "id": "77e71e5d-eb88-4e81-98c9-3dd48fef9c4e",
   "metadata": {},
   "outputs": [
    {
     "data": {
      "text/plain": [
       "0        50\n",
       "1        25\n",
       "2         0\n",
       "3        25\n",
       "4        45\n",
       "         ..\n",
       "10678    30\n",
       "10679    35\n",
       "10680     0\n",
       "10681    40\n",
       "10682    20\n",
       "Name: 1, Length: 10683, dtype: int32"
      ]
     },
     "execution_count": 54,
     "metadata": {},
     "output_type": "execute_result"
    }
   ],
   "source": [
    "flights['Duration'].str.split(\" \",expand = True)[1].str.replace(\"m\",\"\").fillna(\"0\").astype(int)"
   ]
  },
  {
   "cell_type": "code",
   "execution_count": null,
   "id": "2c16f690-6a48-4faf-b5d5-0438eaa525e6",
   "metadata": {},
   "outputs": [],
   "source": []
  },
  {
   "cell_type": "code",
   "execution_count": 55,
   "id": "6d6961e7-a375-41c4-9052-10b1d04d0177",
   "metadata": {},
   "outputs": [
    {
     "data": {
      "text/plain": [
       "array(['non-stop', '2 stops', '1 stop', '3 stops', nan, '4 stops'],\n",
       "      dtype=object)"
      ]
     },
     "execution_count": 55,
     "metadata": {},
     "output_type": "execute_result"
    }
   ],
   "source": [
    "flights['Total_Stops'].unique()"
   ]
  },
  {
   "cell_type": "code",
   "execution_count": 56,
   "id": "79f206bf-5e73-4061-92db-8586f6c4f45a",
   "metadata": {},
   "outputs": [
    {
     "data": {
      "text/plain": [
       "0        0\n",
       "1        2\n",
       "2        2\n",
       "3        1\n",
       "4        1\n",
       "        ..\n",
       "10678    0\n",
       "10679    0\n",
       "10680    0\n",
       "10681    0\n",
       "10682    2\n",
       "Name: Total_Stops, Length: 10683, dtype: object"
      ]
     },
     "execution_count": 56,
     "metadata": {},
     "output_type": "execute_result"
    }
   ],
   "source": [
    "flights['Total_Stops'].str.replace(\"non-stop\",\"0\").str.replace(\" stops?\", \"\", regex=True)"
   ]
  },
  {
   "cell_type": "code",
   "execution_count": 57,
   "id": "dd5e76bc-82e8-44da-8f57-57484980fd44",
   "metadata": {},
   "outputs": [
    {
     "data": {
      "text/html": [
       "<div>\n",
       "<style scoped>\n",
       "    .dataframe tbody tr th:only-of-type {\n",
       "        vertical-align: middle;\n",
       "    }\n",
       "\n",
       "    .dataframe tbody tr th {\n",
       "        vertical-align: top;\n",
       "    }\n",
       "\n",
       "    .dataframe thead th {\n",
       "        text-align: right;\n",
       "    }\n",
       "</style>\n",
       "<table border=\"1\" class=\"dataframe\">\n",
       "  <thead>\n",
       "    <tr style=\"text-align: right;\">\n",
       "      <th></th>\n",
       "      <th>Airline</th>\n",
       "      <th>Date_of_Journey</th>\n",
       "      <th>Source</th>\n",
       "      <th>Destination</th>\n",
       "      <th>Route</th>\n",
       "      <th>Dep_Time</th>\n",
       "      <th>Arrival_Time</th>\n",
       "      <th>Duration</th>\n",
       "      <th>Total_Stops</th>\n",
       "      <th>Additional_Info</th>\n",
       "      <th>Price</th>\n",
       "    </tr>\n",
       "  </thead>\n",
       "  <tbody>\n",
       "    <tr>\n",
       "      <th>9039</th>\n",
       "      <td>Air India</td>\n",
       "      <td>6/05/2019</td>\n",
       "      <td>Delhi</td>\n",
       "      <td>Cochin</td>\n",
       "      <td>NaN</td>\n",
       "      <td>09:45</td>\n",
       "      <td>09:25 07 May</td>\n",
       "      <td>23h 40m</td>\n",
       "      <td>NaN</td>\n",
       "      <td>No info</td>\n",
       "      <td>7480</td>\n",
       "    </tr>\n",
       "  </tbody>\n",
       "</table>\n",
       "</div>"
      ],
      "text/plain": [
       "        Airline Date_of_Journey Source Destination Route Dep_Time  \\\n",
       "9039  Air India       6/05/2019  Delhi      Cochin   NaN    09:45   \n",
       "\n",
       "      Arrival_Time Duration Total_Stops Additional_Info  Price  \n",
       "9039  09:25 07 May  23h 40m         NaN         No info   7480  "
      ]
     },
     "execution_count": 57,
     "metadata": {},
     "output_type": "execute_result"
    }
   ],
   "source": [
    "flights[flights['Total_Stops'].isna()]"
   ]
  },
  {
   "cell_type": "code",
   "execution_count": 58,
   "id": "03aa6a1b-7700-43a6-83f1-8989bd78e62d",
   "metadata": {
    "scrolled": true
   },
   "outputs": [
    {
     "data": {
      "text/plain": [
       "Index(['Airline', 'Date_of_Journey', 'Source', 'Destination', 'Route',\n",
       "       'Dep_Time', 'Arrival_Time', 'Duration', 'Total_Stops',\n",
       "       'Additional_Info'],\n",
       "      dtype='object')"
      ]
     },
     "execution_count": 58,
     "metadata": {},
     "output_type": "execute_result"
    }
   ],
   "source": [
    "flights.select_dtypes(include='O').columns"
   ]
  },
  {
   "cell_type": "code",
   "execution_count": null,
   "id": "386c69f2-e64b-472a-91f9-59f2352a47bf",
   "metadata": {},
   "outputs": [],
   "source": []
  },
  {
   "cell_type": "code",
   "execution_count": null,
   "id": "4073e569-9e0d-4843-a191-d588d5c60ae7",
   "metadata": {},
   "outputs": [],
   "source": []
  },
  {
   "cell_type": "markdown",
   "id": "ffa10d4f-ca30-4453-b1ca-2715b347cded",
   "metadata": {},
   "source": [
    "# Cleaning Operations"
   ]
  },
  {
   "cell_type": "code",
   "execution_count": 59,
   "id": "4a404f7a-40b4-4512-bd1e-564e75d2d4d8",
   "metadata": {},
   "outputs": [],
   "source": [
    "def cleaned_df(df):\n",
    "    \"\"\"\n",
    "    Returns cleaned dataframe\n",
    "    \"\"\"\n",
    "    clean_df = df.copy()\n",
    "\n",
    "    # dropping route column\n",
    "    clean_df.drop(columns = ['Route'],inplace = True)\n",
    "\n",
    "    # dropping erroneous duration row\n",
    "    clean_df.drop(index = [6474,9039],inplace=True)\n",
    "\n",
    "    # dropping duplicates\n",
    "    clean_df.drop_duplicates(inplace = True)\n",
    "\n",
    "    # Replace Delhi with New Delhi in Destination\n",
    "    clean_df['Destination'] = clean_df['Destination'].replace(\"Delhi\", \"New Delhi\")\n",
    "\n",
    "    # Removing Business and Premium Economy labels from airlines names, Titlecase the labels\n",
    "    clean_df['Airline'] = clean_df['Airline'].str.replace(\"Premium economy\",\"\").str.replace(\"Business\",\"\").str.title()\n",
    "\n",
    "    # removing extra spaces using strip() using assigns and dict comprehension\n",
    "    str_cols = clean_df.select_dtypes(include='object').columns\n",
    "    clean_df = clean_df.assign(**{col: clean_df[col].str.strip() for col in str_cols})\n",
    "\n",
    "    # Fixing datetime of Date_of_Journey column\n",
    "    clean_df['Date_of_Journey'] = pd.to_datetime(clean_df['Date_of_Journey'],dayfirst = True)\n",
    "\n",
    "    # Converting Dep Time to time format\n",
    "    clean_df['Dep_Time'] = pd.to_datetime(clean_df['Dep_Time']).dt.time\n",
    "\n",
    "    # Fixing Arrival time\n",
    "    clean_df['Arrival_Time'] = pd.to_datetime(clean_df['Arrival_Time'].str.split(\" \",n=1).str.get(0)).dt.time\n",
    "\n",
    "    # Converting duration to minutes\n",
    "    clean_df['dur_hr'] = clean_df['Duration'].str.split(\" \",expand = True)[0].str.replace(\"h\",\"\").fillna(\"0\").astype(int)\n",
    "    clean_df['dur_min'] = clean_df['Duration'].str.split(\" \",expand = True)[1].str.replace(\"m\",\"\").fillna(\"0\").astype(int)\n",
    "\n",
    "    clean_df['duration_min'] = clean_df['dur_hr']*60 + clean_df['dur_min']\n",
    "\n",
    "    # Converting Total Stops to integer\n",
    "    clean_df['Total_Stops'] = pd.to_numeric(clean_df['Total_Stops'].str.replace(\"non-stop\",\"0\").str.replace(\" stops?\", \"\", regex=True))\n",
    "\n",
    "    # Additional info\n",
    "    clean_df['Additional_Info'] = clean_df['Additional_Info'].replace(\"No info\", \"No Info\")\n",
    "    \n",
    "    # dropping intermediate columns created\n",
    "    clean_df.drop(columns = ['dur_min','dur_hr','Duration'],inplace = True)\n",
    "     \n",
    "    \n",
    "    # lowercase of column names\n",
    "    clean_df = clean_df.rename(columns = str.lower)\n",
    "    \n",
    "    return clean_df"
   ]
  },
  {
   "cell_type": "code",
   "execution_count": 60,
   "id": "00cd556a-dc79-49f4-a224-b3197bb21ea9",
   "metadata": {},
   "outputs": [
    {
     "name": "stderr",
     "output_type": "stream",
     "text": [
      "C:\\Users\\abhid\\AppData\\Local\\Temp\\ipykernel_8144\\3190716208.py:30: UserWarning: Could not infer format, so each element will be parsed individually, falling back to `dateutil`. To ensure parsing is consistent and as-expected, please specify a format.\n",
      "  clean_df['Dep_Time'] = pd.to_datetime(clean_df['Dep_Time']).dt.time\n",
      "C:\\Users\\abhid\\AppData\\Local\\Temp\\ipykernel_8144\\3190716208.py:33: UserWarning: Could not infer format, so each element will be parsed individually, falling back to `dateutil`. To ensure parsing is consistent and as-expected, please specify a format.\n",
      "  clean_df['Arrival_Time'] = pd.to_datetime(clean_df['Arrival_Time'].str.split(\" \",n=1).str.get(0)).dt.time\n"
     ]
    }
   ],
   "source": [
    "flights_cleaned = cleaned_df(flights)"
   ]
  },
  {
   "cell_type": "code",
   "execution_count": 61,
   "id": "c27d960d-49a1-4b4c-a2e0-dc2c5aab9a71",
   "metadata": {},
   "outputs": [
    {
     "name": "stdout",
     "output_type": "stream",
     "text": [
      "<class 'pandas.core.frame.DataFrame'>\n",
      "Index: 10461 entries, 0 to 10682\n",
      "Data columns (total 10 columns):\n",
      " #   Column           Non-Null Count  Dtype         \n",
      "---  ------           --------------  -----         \n",
      " 0   airline          10461 non-null  object        \n",
      " 1   date_of_journey  10461 non-null  datetime64[ns]\n",
      " 2   source           10461 non-null  object        \n",
      " 3   destination      10461 non-null  object        \n",
      " 4   dep_time         10461 non-null  object        \n",
      " 5   arrival_time     10461 non-null  object        \n",
      " 6   total_stops      10461 non-null  int64         \n",
      " 7   additional_info  10461 non-null  object        \n",
      " 8   price            10461 non-null  int64         \n",
      " 9   duration_min     10461 non-null  int32         \n",
      "dtypes: datetime64[ns](1), int32(1), int64(2), object(6)\n",
      "memory usage: 858.1+ KB\n"
     ]
    }
   ],
   "source": [
    "flights_cleaned.info()"
   ]
  },
  {
   "cell_type": "code",
   "execution_count": 62,
   "id": "808758f8-dbae-438e-b599-8ba718bc0844",
   "metadata": {},
   "outputs": [
    {
     "data": {
      "text/html": [
       "<div>\n",
       "<style scoped>\n",
       "    .dataframe tbody tr th:only-of-type {\n",
       "        vertical-align: middle;\n",
       "    }\n",
       "\n",
       "    .dataframe tbody tr th {\n",
       "        vertical-align: top;\n",
       "    }\n",
       "\n",
       "    .dataframe thead th {\n",
       "        text-align: right;\n",
       "    }\n",
       "</style>\n",
       "<table border=\"1\" class=\"dataframe\">\n",
       "  <thead>\n",
       "    <tr style=\"text-align: right;\">\n",
       "      <th></th>\n",
       "      <th>airline</th>\n",
       "      <th>date_of_journey</th>\n",
       "      <th>source</th>\n",
       "      <th>destination</th>\n",
       "      <th>dep_time</th>\n",
       "      <th>arrival_time</th>\n",
       "      <th>total_stops</th>\n",
       "      <th>additional_info</th>\n",
       "      <th>price</th>\n",
       "      <th>duration_min</th>\n",
       "    </tr>\n",
       "  </thead>\n",
       "  <tbody>\n",
       "    <tr>\n",
       "      <th>5768</th>\n",
       "      <td>Multiple Carriers</td>\n",
       "      <td>2019-05-09</td>\n",
       "      <td>Delhi</td>\n",
       "      <td>Cochin</td>\n",
       "      <td>08:45:00</td>\n",
       "      <td>19:00:00</td>\n",
       "      <td>1</td>\n",
       "      <td>No Info</td>\n",
       "      <td>9794</td>\n",
       "      <td>615</td>\n",
       "    </tr>\n",
       "    <tr>\n",
       "      <th>8395</th>\n",
       "      <td>Spicejet</td>\n",
       "      <td>2019-06-06</td>\n",
       "      <td>Kolkata</td>\n",
       "      <td>Banglore</td>\n",
       "      <td>17:10:00</td>\n",
       "      <td>19:40:00</td>\n",
       "      <td>0</td>\n",
       "      <td>No check-in baggage included</td>\n",
       "      <td>3841</td>\n",
       "      <td>150</td>\n",
       "    </tr>\n",
       "    <tr>\n",
       "      <th>1986</th>\n",
       "      <td>Indigo</td>\n",
       "      <td>2019-06-27</td>\n",
       "      <td>Chennai</td>\n",
       "      <td>Kolkata</td>\n",
       "      <td>05:15:00</td>\n",
       "      <td>07:40:00</td>\n",
       "      <td>0</td>\n",
       "      <td>No Info</td>\n",
       "      <td>3540</td>\n",
       "      <td>145</td>\n",
       "    </tr>\n",
       "    <tr>\n",
       "      <th>4959</th>\n",
       "      <td>Jet Airways</td>\n",
       "      <td>2019-06-09</td>\n",
       "      <td>Kolkata</td>\n",
       "      <td>Banglore</td>\n",
       "      <td>17:00:00</td>\n",
       "      <td>22:05:00</td>\n",
       "      <td>1</td>\n",
       "      <td>No Info</td>\n",
       "      <td>12692</td>\n",
       "      <td>1745</td>\n",
       "    </tr>\n",
       "    <tr>\n",
       "      <th>826</th>\n",
       "      <td>Jet Airways</td>\n",
       "      <td>2019-03-01</td>\n",
       "      <td>Banglore</td>\n",
       "      <td>New Delhi</td>\n",
       "      <td>05:45:00</td>\n",
       "      <td>16:10:00</td>\n",
       "      <td>1</td>\n",
       "      <td>No Info</td>\n",
       "      <td>26890</td>\n",
       "      <td>625</td>\n",
       "    </tr>\n",
       "  </tbody>\n",
       "</table>\n",
       "</div>"
      ],
      "text/plain": [
       "                airline date_of_journey    source destination  dep_time  \\\n",
       "5768  Multiple Carriers      2019-05-09     Delhi      Cochin  08:45:00   \n",
       "8395           Spicejet      2019-06-06   Kolkata    Banglore  17:10:00   \n",
       "1986             Indigo      2019-06-27   Chennai     Kolkata  05:15:00   \n",
       "4959        Jet Airways      2019-06-09   Kolkata    Banglore  17:00:00   \n",
       "826         Jet Airways      2019-03-01  Banglore   New Delhi  05:45:00   \n",
       "\n",
       "     arrival_time  total_stops               additional_info  price  \\\n",
       "5768     19:00:00            1                       No Info   9794   \n",
       "8395     19:40:00            0  No check-in baggage included   3841   \n",
       "1986     07:40:00            0                       No Info   3540   \n",
       "4959     22:05:00            1                       No Info  12692   \n",
       "826      16:10:00            1                       No Info  26890   \n",
       "\n",
       "      duration_min  \n",
       "5768           615  \n",
       "8395           150  \n",
       "1986           145  \n",
       "4959          1745  \n",
       "826            625  "
      ]
     },
     "execution_count": 62,
     "metadata": {},
     "output_type": "execute_result"
    }
   ],
   "source": [
    "flights_cleaned.sample(5)"
   ]
  },
  {
   "cell_type": "code",
   "execution_count": 63,
   "id": "78efccab-13b0-4148-85f5-2158f354a0b1",
   "metadata": {},
   "outputs": [
    {
     "data": {
      "text/plain": [
       "additional_info\n",
       "No Info                         8184\n",
       "In-flight meal not included     1926\n",
       "No check-in baggage included     318\n",
       "1 Long layover                    19\n",
       "Change airports                    7\n",
       "Business class                     4\n",
       "1 Short layover                    1\n",
       "Red-eye flight                     1\n",
       "2 Long layover                     1\n",
       "Name: count, dtype: int64"
      ]
     },
     "execution_count": 63,
     "metadata": {},
     "output_type": "execute_result"
    }
   ],
   "source": [
    "flights_cleaned['additional_info'].value_counts()"
   ]
  },
  {
   "cell_type": "markdown",
   "id": "d9bfef91-a377-4424-b2ca-29832667eec5",
   "metadata": {},
   "source": [
    "### Saving processed file"
   ]
  },
  {
   "cell_type": "code",
   "execution_count": 64,
   "id": "907420e4-03d6-4e55-ac80-f02abef4f8b5",
   "metadata": {},
   "outputs": [],
   "source": [
    "def export_to_csv(df,name):\n",
    "    filename = f\"{name}.csv\"\n",
    "    file_path = os.path.join(PROJECT_DIR,DATA_DIR,filename)\n",
    "    \n",
    "    df.to_csv(file_path,index = False)"
   ]
  },
  {
   "cell_type": "code",
   "execution_count": 65,
   "id": "93799fc4-32e1-41d5-9bd6-0e72292f0b0c",
   "metadata": {},
   "outputs": [],
   "source": [
    "export_to_csv(flights_cleaned,\"flights_cleaned\")"
   ]
  },
  {
   "cell_type": "markdown",
   "id": "f2942086-9ec9-4cff-b9b0-58ee3255ab54",
   "metadata": {},
   "source": [
    "## Split the Data"
   ]
  },
  {
   "cell_type": "code",
   "execution_count": 66,
   "id": "90d717aa-27ca-4fa4-aeee-b5382c3dbbb4",
   "metadata": {},
   "outputs": [],
   "source": [
    "X = flights_cleaned.copy().drop('price',axis = 1)\n",
    "y = flights_cleaned['price'].copy()"
   ]
  },
  {
   "cell_type": "code",
   "execution_count": 67,
   "id": "0e92bf99-4865-43c5-89c1-e1f11a1530c4",
   "metadata": {},
   "outputs": [
    {
     "name": "stdout",
     "output_type": "stream",
     "text": [
      "(6694, 9) (6694,)\n",
      "(1674, 9) (1674,)\n",
      "(2093, 9) (2093,)\n"
     ]
    }
   ],
   "source": [
    "X_, X_test, y_, y_test = train_test_split(X, y, test_size=0.2, random_state=42)\n",
    "X_train, X_val, y_train, y_val = train_test_split(X_, y_, test_size=0.2, random_state=42)\n",
    "\n",
    "print(X_train.shape, y_train.shape)\n",
    "print(X_val.shape, y_val.shape)\n",
    "print(X_test.shape, y_test.shape)"
   ]
  },
  {
   "cell_type": "code",
   "execution_count": null,
   "id": "b3444495-d535-40a9-bfac-8df727765420",
   "metadata": {},
   "outputs": [],
   "source": []
  },
  {
   "cell_type": "markdown",
   "id": "c1dc2251-43b2-4df1-8d72-60addaa11b9d",
   "metadata": {},
   "source": [
    "## Export the Data Subsets"
   ]
  },
  {
   "cell_type": "code",
   "execution_count": 68,
   "id": "a9ca7eaf-7ea0-463b-9ee9-39025aadd2ad",
   "metadata": {},
   "outputs": [
    {
     "data": {
      "text/html": [
       "<div>\n",
       "<style scoped>\n",
       "    .dataframe tbody tr th:only-of-type {\n",
       "        vertical-align: middle;\n",
       "    }\n",
       "\n",
       "    .dataframe tbody tr th {\n",
       "        vertical-align: top;\n",
       "    }\n",
       "\n",
       "    .dataframe thead th {\n",
       "        text-align: right;\n",
       "    }\n",
       "</style>\n",
       "<table border=\"1\" class=\"dataframe\">\n",
       "  <thead>\n",
       "    <tr style=\"text-align: right;\">\n",
       "      <th></th>\n",
       "      <th>airline</th>\n",
       "      <th>date_of_journey</th>\n",
       "      <th>source</th>\n",
       "      <th>destination</th>\n",
       "      <th>dep_time</th>\n",
       "      <th>arrival_time</th>\n",
       "      <th>total_stops</th>\n",
       "      <th>additional_info</th>\n",
       "      <th>duration_min</th>\n",
       "      <th>price</th>\n",
       "    </tr>\n",
       "  </thead>\n",
       "  <tbody>\n",
       "    <tr>\n",
       "      <th>3832</th>\n",
       "      <td>Jet Airways</td>\n",
       "      <td>2019-05-27</td>\n",
       "      <td>Delhi</td>\n",
       "      <td>Cochin</td>\n",
       "      <td>20:55:00</td>\n",
       "      <td>12:35:00</td>\n",
       "      <td>1</td>\n",
       "      <td>In-flight meal not included</td>\n",
       "      <td>940</td>\n",
       "      <td>12898</td>\n",
       "    </tr>\n",
       "    <tr>\n",
       "      <th>3095</th>\n",
       "      <td>Jet Airways</td>\n",
       "      <td>2019-06-12</td>\n",
       "      <td>Kolkata</td>\n",
       "      <td>Banglore</td>\n",
       "      <td>18:55:00</td>\n",
       "      <td>16:20:00</td>\n",
       "      <td>1</td>\n",
       "      <td>No Info</td>\n",
       "      <td>1285</td>\n",
       "      <td>13044</td>\n",
       "    </tr>\n",
       "    <tr>\n",
       "      <th>9717</th>\n",
       "      <td>Air India</td>\n",
       "      <td>2019-05-18</td>\n",
       "      <td>Delhi</td>\n",
       "      <td>Cochin</td>\n",
       "      <td>09:45:00</td>\n",
       "      <td>09:25:00</td>\n",
       "      <td>2</td>\n",
       "      <td>No Info</td>\n",
       "      <td>1420</td>\n",
       "      <td>10975</td>\n",
       "    </tr>\n",
       "  </tbody>\n",
       "</table>\n",
       "</div>"
      ],
      "text/plain": [
       "          airline date_of_journey   source destination  dep_time arrival_time  \\\n",
       "3832  Jet Airways      2019-05-27    Delhi      Cochin  20:55:00     12:35:00   \n",
       "3095  Jet Airways      2019-06-12  Kolkata    Banglore  18:55:00     16:20:00   \n",
       "9717    Air India      2019-05-18    Delhi      Cochin  09:45:00     09:25:00   \n",
       "\n",
       "      total_stops              additional_info  duration_min  price  \n",
       "3832            1  In-flight meal not included           940  12898  \n",
       "3095            1                      No Info          1285  13044  \n",
       "9717            2                      No Info          1420  10975  "
      ]
     },
     "execution_count": 68,
     "metadata": {},
     "output_type": "execute_result"
    }
   ],
   "source": [
    "X_train.join(y_train).head(3)  # by default joins on index"
   ]
  },
  {
   "cell_type": "code",
   "execution_count": 69,
   "id": "766641b9-2aba-4428-b46d-c65d0043b27b",
   "metadata": {},
   "outputs": [],
   "source": [
    "export_to_csv(X_train.join(y_train),'train')"
   ]
  },
  {
   "cell_type": "code",
   "execution_count": 70,
   "id": "6d65acfc-0c82-42ea-b322-382c653bde03",
   "metadata": {},
   "outputs": [],
   "source": [
    "export_to_csv(X_val.join(y_val),'val')"
   ]
  },
  {
   "cell_type": "code",
   "execution_count": 71,
   "id": "5f15db26-de31-4a1a-a97a-862796323abb",
   "metadata": {},
   "outputs": [],
   "source": [
    "export_to_csv(X_test.join(y_test),'test')"
   ]
  },
  {
   "cell_type": "code",
   "execution_count": null,
   "id": "a8f0328f-2f1d-4db7-8fa6-6a95e3af48fe",
   "metadata": {},
   "outputs": [],
   "source": []
  }
 ],
 "metadata": {
  "kernelspec": {
   "display_name": "Python 3 (ipykernel)",
   "language": "python",
   "name": "python3"
  },
  "language_info": {
   "codemirror_mode": {
    "name": "ipython",
    "version": 3
   },
   "file_extension": ".py",
   "mimetype": "text/x-python",
   "name": "python",
   "nbconvert_exporter": "python",
   "pygments_lexer": "ipython3",
   "version": "3.10.14"
  }
 },
 "nbformat": 4,
 "nbformat_minor": 5
}
